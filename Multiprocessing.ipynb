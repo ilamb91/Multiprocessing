{
 "cells": [
  {
   "cell_type": "markdown",
   "id": "1f5887ad-0641-4707-a82a-e8dfb5402827",
   "metadata": {},
   "source": [
    "Q1. What is multiprocessing in python? Why is it useful?"
   ]
  },
  {
   "cell_type": "markdown",
   "id": "f53c1473-e21b-40f3-83f8-59b37e952c76",
   "metadata": {},
   "source": [
    "A1. Multiprocessing in Python is a built-in package that allows the system to run multiple processes simultaneously. It will enable the breaking of applications into smaller threads that can run independently."
   ]
  },
  {
   "cell_type": "markdown",
   "id": "736484fe-35bf-4d62-bc58-b9a0a7bc1433",
   "metadata": {},
   "source": [
    "Q2. What are the differences between multiprocessing and multithreading?"
   ]
  },
  {
   "cell_type": "markdown",
   "id": "cc1cfd32-76ca-47a8-a067-0bcd115ad02c",
   "metadata": {},
   "source": [
    "A2. Multiprocessing uses two or more CPUs to increase computing power, whereas multithreading uses a single process with multiple code segments to increase computing power. Multithreading focuses on generating computing threads from a single process, whereas multiprocessing increases computing power by adding CPUs."
   ]
  },
  {
   "cell_type": "markdown",
   "id": "43eca4bc-8b90-4f1c-9c16-b100f9c1eaa8",
   "metadata": {},
   "source": [
    "Q3. Write a python code to create a process using the multiprocessing module."
   ]
  },
  {
   "cell_type": "code",
   "execution_count": 2,
   "id": "3abba63c-7a83-4890-991a-b3490c783061",
   "metadata": {},
   "outputs": [
    {
     "name": "stdout",
     "output_type": "stream",
     "text": [
      "ID of main process: 137\n",
      "ID of process running worker1: 298\n",
      "ID of process running worker2: 301\n",
      "ID of process p1: 298\n",
      "ID of process p2: 301\n",
      "Both processes finished execution!\n",
      "Process p1 is alive: False\n",
      "Process p2 is alive: False\n"
     ]
    }
   ],
   "source": [
    "import multiprocessing\n",
    "import os\n",
    "  \n",
    "def worker1():\n",
    "     print(\"ID of process running worker1: {}\".format(os.getpid()))\n",
    "def worker2():\n",
    "    print(\"ID of process running worker2: {}\".format(os.getpid()))\n",
    "if __name__ == \"__main__\":\n",
    "    print(\"ID of main process: {}\".format(os.getpid()))\n",
    "    p1 = multiprocessing.Process(target=worker1)\n",
    "    p2 = multiprocessing.Process(target=worker2)\n",
    "\n",
    "    p1.start()\n",
    "    p2.start()\n",
    "\n",
    "    print(\"ID of process p1: {}\".format(p1.pid))\n",
    "    print(\"ID of process p2: {}\".format(p2.pid))\n",
    "\n",
    "    p1.join()\n",
    "    p2.join()\n",
    "\n",
    "    print(\"Both processes finished execution!\")\n",
    "\n",
    "    print(\"Process p1 is alive: {}\".format(p1.is_alive()))\n",
    "    print(\"Process p2 is alive: {}\".format(p2.is_alive()))\n"
   ]
  },
  {
   "cell_type": "markdown",
   "id": "6c087aa5-17eb-436c-8b5b-7b4b0bee506f",
   "metadata": {},
   "source": [
    "Q4. What is a multiprocessing pool in python? Why is it used?"
   ]
  },
  {
   "cell_type": "markdown",
   "id": "d935a814-63a2-4aa9-be5e-b6ea9581948c",
   "metadata": {},
   "source": [
    "A4. Python multiprocessing Pool can be used for parallel execution of a function across multiple input values, distributing the input data across processes (data parallelism)."
   ]
  },
  {
   "cell_type": "markdown",
   "id": "7f3c9406-729e-459a-9534-be555f0a8f01",
   "metadata": {},
   "source": [
    "Q5. How can we create a pool of worker processes in python using the multiprocessing module?"
   ]
  },
  {
   "cell_type": "markdown",
   "id": "a5003c1a-50a7-4c97-ba50-cf7a90b67a4c",
   "metadata": {},
   "source": [
    "A5. To create a pool of processes in Python, you can use the `multiprocessing` module's `Pool` class. The `multiprocessing. Pool` object will maintain a collection of worker processes, to which you can submit tasks to be executed concurrently"
   ]
  },
  {
   "cell_type": "markdown",
   "id": "83d81a52-f110-4cb9-a489-0ea8a4975b77",
   "metadata": {},
   "source": [
    "Q6. Write a python program to create 4 processes, each process should print a different number using the\n",
    "multiprocessing module in python."
   ]
  },
  {
   "cell_type": "code",
   "execution_count": 3,
   "id": "79480a74-3e14-4bc4-993f-43c4f49b2e75",
   "metadata": {},
   "outputs": [
    {
     "name": "stdout",
     "output_type": "stream",
     "text": [
      "ID of main process: 137\n",
      "ID of process running worker1: 407\n",
      "ID of process running worker2: 410\n",
      "ID of process p1: 407\n",
      "ID of process p2: 410\n",
      "Both processes finished execution!\n"
     ]
    }
   ],
   "source": [
    "import multiprocessing\n",
    "import os\n",
    "  \n",
    "def worker1():\n",
    "     print(\"ID of process running worker1: {}\".format(os.getpid()))\n",
    "def worker2():\n",
    "    print(\"ID of process running worker2: {}\".format(os.getpid()))\n",
    "if __name__ == \"__main__\":\n",
    "    print(\"ID of main process: {}\".format(os.getpid()))\n",
    "    p1 = multiprocessing.Process(target=worker1)\n",
    "    p2 = multiprocessing.Process(target=worker2)\n",
    "\n",
    "    p1.start()\n",
    "    p2.start()\n",
    "\n",
    "    print(\"ID of process p1: {}\".format(p1.pid))\n",
    "    print(\"ID of process p2: {}\".format(p2.pid))\n",
    "\n",
    "    p1.join()\n",
    "    p2.join()\n",
    "\n",
    "    print(\"Both processes finished execution!\")"
   ]
  },
  {
   "cell_type": "code",
   "execution_count": null,
   "id": "4b15cf1a-b2dc-4091-937c-1b05f1175adc",
   "metadata": {},
   "outputs": [],
   "source": []
  }
 ],
 "metadata": {
  "kernelspec": {
   "display_name": "Python 3 (ipykernel)",
   "language": "python",
   "name": "python3"
  },
  "language_info": {
   "codemirror_mode": {
    "name": "ipython",
    "version": 3
   },
   "file_extension": ".py",
   "mimetype": "text/x-python",
   "name": "python",
   "nbconvert_exporter": "python",
   "pygments_lexer": "ipython3",
   "version": "3.10.8"
  }
 },
 "nbformat": 4,
 "nbformat_minor": 5
}
